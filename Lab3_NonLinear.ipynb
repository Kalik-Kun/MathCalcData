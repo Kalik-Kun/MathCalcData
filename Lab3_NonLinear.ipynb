{
 "cells": [
  {
   "cell_type": "markdown",
   "id": "f36e4665-3592-4595-8289-42c84e507093",
   "metadata": {},
   "source": [
    "# Mathod Halving method"
   ]
  },
  {
   "cell_type": "code",
   "execution_count": 101,
   "id": "20efef63-b07f-4ad1-b55c-d2ca0fac7f59",
   "metadata": {},
   "outputs": [],
   "source": [
    "import numpy as np\n",
    "import matplotlib.pyplot as plt"
   ]
  },
  {
   "cell_type": "code",
   "execution_count": 129,
   "id": "eb4fb4d1-6c2a-4561-92d4-d31d4c44317a",
   "metadata": {},
   "outputs": [],
   "source": [
    "def func (x):\n",
    "    # return 4 - np.exp(x) - 2*(x**2)\n",
    "    # return X**2\n",
    "    return x**3\n",
    "\n",
    "def dfunc (x):\n",
    "    # return -np.exp(x) - 4*x\n",
    "#     return 2*x \n",
    "    return 3*(x**2)"
   ]
  },
  {
   "cell_type": "code",
   "execution_count": 130,
   "id": "c784335c-7a40-4370-bd6e-42577018e5c4",
   "metadata": {},
   "outputs": [],
   "source": [
    "\n",
    "def halving(f, start, end, eps=1e-5):\n",
    "    a = start\n",
    "    b = end\n",
    "    while b - a > eps:\n",
    "        c = (a + b) / 2\n",
    "        if f(b)*f(c) < 0:\n",
    "            a = c\n",
    "        else: \n",
    "            b = c\n",
    "        # print(\"a: {}, b: {}, c: {}\".format(a, b, c))    \n",
    "    return c"
   ]
  },
  {
   "cell_type": "code",
   "execution_count": 131,
   "id": "e1dfa93e-4d9b-4d68-b515-f212e5ccb5e9",
   "metadata": {},
   "outputs": [
    {
     "data": {
      "text/plain": [
       "<matplotlib.collections.PathCollection at 0x7fa4d117df40>"
      ]
     },
     "execution_count": 131,
     "metadata": {},
     "output_type": "execute_result"
    },
    {
     "data": {
      "image/png": "[encoded data removed]",
      "text/plain": [
       "<Figure size 432x288 with 1 Axes>"
      ]
     },
     "metadata": {
      "needs_background": "light"
     },
     "output_type": "display_data"
    }
   ],
   "source": [
    "start = -1\n",
    "end   = 2\n",
    "\n",
    "xx = np.linspace(start, end, 1000)\n",
    "yy = func(xx)\n",
    "plt.plot(xx, yy)\n",
    "plt.plot(xx, np.zeros_like(xx))\n",
    "point = halving(func, start, end)\n",
    "plt.scatter(point, func(point))"
   ]
  },
  {
   "cell_type": "markdown",
   "id": "97635c0f-4b84-4351-a78a-8cd8d937a86c",
   "metadata": {},
   "source": [
    "# Root multiplicity estimate"
   ]
  },
  {
   "cell_type": "code",
   "execution_count": 140,
   "id": "4a447401-ca46-4b26-8a87-fb08f40cc19a",
   "metadata": {},
   "outputs": [],
   "source": [
    "def root_est(xnp1, xn, xnm1):\n",
    "    # if np.abs(xn - xnm1) < eps:\n",
    "    #     return 1\n",
    "    Q = (xnp1 - xn)/(xn - xnm1)\n",
    "    # print(Q)\n",
    "    p = 1. / (1. - Q)\n",
    "    return p"
   ]
  },
  {
   "cell_type": "markdown",
   "id": "86b6ae90-b1e2-4897-8dbc-169d853dd739",
   "metadata": {},
   "source": [
    "# Method Hewton(secants method)"
   ]
  },
  {
   "cell_type": "code",
   "execution_count": 141,
   "id": "2ef349d8-17c3-40c5-8d70-40374ceb0489",
   "metadata": {},
   "outputs": [],
   "source": [
    "def hewton_2(f, df, x0, eps=1e-10):\n",
    "    xk = x0\n",
    "    xk1 = xk - f(xk)/df(xk)\n",
    "    \n",
    "    while np.abs(xk1 - xk) > eps:\n",
    "        xk = xk1\n",
    "        xk1 = xk - f(xk)/df(xk)\n",
    "        # print(\"xk1: {}, xk: {}\".format(xk1, xk))\n",
    "    \n",
    "    xk2 = xk1 - f(xk1)/df(xk1)\n",
    "    print(\"root estimate: {}\".format(root_est(xk2, xk1, xk)))    \n",
    "    return xk1    "
   ]
  },
  {
   "cell_type": "code",
   "execution_count": 142,
   "id": "1e301368-b8b9-4b8c-b3af-589980c7ee6b",
   "metadata": {},
   "outputs": [
    {
     "name": "stdout",
     "output_type": "stream",
     "text": [
      "root estimate: 3.0000000000000018\n"
     ]
    },
    {
     "data": {
      "text/plain": [
       "<matplotlib.collections.PathCollection at 0x7fa4d0fab580>"
      ]
     },
     "execution_count": 142,
     "metadata": {},
     "output_type": "execute_result"
    },
    {
     "data": {
      "image/png": "[encoded data removed]",
      "text/plain": [
       "<Figure size 432x288 with 1 Axes>"
      ]
     },
     "metadata": {
      "needs_background": "light"
     },
     "output_type": "display_data"
    }
   ],
   "source": [
    "start = -1\n",
    "end   = 2\n",
    "x0    = 10\n",
    "\n",
    "xx = np.linspace(start, end, 1000)\n",
    "yy = func(xx)\n",
    "\n",
    "point = hewton_2(func, dfunc, x0)\n",
    "\n",
    "plt.plot(xx, yy)\n",
    "plt.plot(xx, np.zeros_like(xx))\n",
    "plt.scatter(point, func(point))"
   ]
  },
  {
   "cell_type": "markdown",
   "id": "247d4bc2-5527-4d9f-87db-89dc7b4fd97b",
   "metadata": {},
   "source": [
    "# Newton's method (secant method)"
   ]
  },
  {
   "cell_type": "code",
   "execution_count": 143,
   "id": "fc1afc4a-2e2c-4af0-be65-4ccbb5189e25",
   "metadata": {},
   "outputs": [],
   "source": [
    "def hewton_1(f, dfx0, x0, eps=1e-5):\n",
    "    xk = x0\n",
    "    xk1 = xk - f(xk)/dfx0\n",
    "    \n",
    "    while np.abs(xk1 - xk) > eps:\n",
    "        xk = xk1\n",
    "        xk1 = xk - f(xk)/dfx0\n",
    "        # print(\"xk1: {}, xk: {}\".format(xk1, xk))\n",
    "        \n",
    "    # xk2 = xk1 - f(xk1)/dfx0\n",
    "    # print(\"root estimate: {}\".format(root_est(xk2, xk1, xk)))        \n",
    "    return xk1 "
   ]
  },
  {
   "cell_type": "code",
   "execution_count": 144,
   "id": "11ea2914-01ba-4ba5-a62e-30246978095d",
   "metadata": {
    "tags": []
   },
   "outputs": [
    {
     "name": "stdout",
     "output_type": "stream",
     "text": [
      "root estimate: 1036.3907068257988\n"
     ]
    },
    {
     "data": {
      "text/plain": [
       "<matplotlib.collections.PathCollection at 0x7fa4d0f9a4c0>"
      ]
     },
     "execution_count": 144,
     "metadata": {},
     "output_type": "execute_result"
    },
    {
     "data": {
      "image/png": "[encoded data removed]",
      "text/plain": [
       "<Figure size 432x288 with 1 Axes>"
      ]
     },
     "metadata": {
      "needs_background": "light"
     },
     "output_type": "display_data"
    }
   ],
   "source": [
    "start = -1\n",
    "end   = 1\n",
    "x0    = 1\n",
    "dfx0  = dfunc(x0)\n",
    "\n",
    "xx = np.linspace(start, end, 1000)\n",
    "yy = func(xx)\n",
    "\n",
    "plt.plot(xx, yy)\n",
    "plt.plot(xx, np.zeros_like(xx))\n",
    "\n",
    "point = hewton_1(func, dfx0, x0)\n",
    "plt.scatter(point, func(point))"
   ]
  },
  {
   "cell_type": "markdown",
   "id": "1c86c506-0000-49b7-8036-a9eb1cb56300",
   "metadata": {},
   "source": [
    "# Newton's method"
   ]
  },
  {
   "cell_type": "code",
   "execution_count": 149,
   "id": "02ce4454-b2e1-4e7f-9af9-24ce543cfc97",
   "metadata": {},
   "outputs": [],
   "source": [
    "def hewton(f, x0, x1, eps=1e-10):\n",
    "    xk  = x0\n",
    "    xk1 = x1\n",
    "    \n",
    "    while np.abs(xk1 - xk) > eps:\n",
    "        df = (f(xk1) - f(xk)) / (xk1 - xk)\n",
    "        xk = xk1\n",
    "        xk1 = xk - f(xk)/df\n",
    "        # print(\"xk1: {}, xk: {}\".format(xk1, xk))\n",
    "    \n",
    "    # df = (f(xk1) - f(xk)) / (xk1 - xk)\n",
    "    # xk2 = xk1 - f(xk1)/df\n",
    "    print(\"root estimate: {}\".format(root_est(xk2, xk1, xk)))    \n",
    "    return xk1 "
   ]
  },
  {
   "cell_type": "code",
   "execution_count": 150,
   "id": "37521aa2-d497-4166-a366-4a6df57a5049",
   "metadata": {},
   "outputs": [
    {
     "name": "stdout",
     "output_type": "stream",
     "text": [
      "root estimate: 4.079595623491442\n"
     ]
    },
    {
     "data": {
      "text/plain": [
       "<matplotlib.collections.PathCollection at 0x7fa4d0de89d0>"
      ]
     },
     "execution_count": 150,
     "metadata": {},
     "output_type": "execute_result"
    },
    {
     "data": {
      "image/png": "[encoded data removed]",
      "text/plain": [
       "<Figure size 432x288 with 1 Axes>"
      ]
     },
     "metadata": {
      "needs_background": "light"
     },
     "output_type": "display_data"
    }
   ],
   "source": [
    "start = -1\n",
    "end   = 2\n",
    "x0    = 1\n",
    "x1    = 2\n",
    "dfx0  = dfunc(x0)\n",
    "\n",
    "xx = np.linspace(start, end, 1000)\n",
    "yy = func(xx)\n",
    "\n",
    "plt.plot(xx, yy)\n",
    "plt.plot(xx, np.zeros_like(xx))\n",
    "\n",
    "point = hewton(func, x0, x1)\n",
    "plt.scatter(point, func(point))"
   ]
  },
  {
   "cell_type": "markdown",
   "id": "a3bf7bda-ca14-4db0-bd08-ca8dbad7146f",
   "metadata": {},
   "source": [
    "# N mod Newton"
   ]
  },
  {
   "cell_type": "code",
   "execution_count": null,
   "id": "20f30a5b-1727-47bd-a267-f1b8ff0a4530",
   "metadata": {},
   "outputs": [],
   "source": []
  },
  {
   "cell_type": "code",
   "execution_count": 240,
   "id": "f30ff7ef-e6de-43f2-8867-309211dcf084",
   "metadata": {},
   "outputs": [],
   "source": [
    "def f_1(A, B, C, X):\n",
    "    return A@X@X + B@X + C\n",
    "\n",
    "def f_2(D, Y):\n",
    "    return Y@Y - D"
   ]
  },
  {
   "cell_type": "code",
   "execution_count": 241,
   "id": "5f1882e3-21b5-4993-bc44-ef16c109b2a3",
   "metadata": {},
   "outputs": [],
   "source": [
    "def newton_1(A, B, C, max_iter_num, eps):\n",
    "    errors =[]\n",
    "    X_k = A\n",
    "    for i in range(max_iter_num):\n",
    "        delta_X = np.linalg.solve(2*A@X_k + B, -f_1(A, B, C, X_k))\n",
    "        errors.append(np.linalg.norm(delta_X))\n",
    "        X_k += delta_X\n",
    "\n",
    "        if(np.linalg.norm(delta_X) < eps):\n",
    "            break\n",
    "    return X_k, errors"
   ]
  },
  {
   "cell_type": "code",
   "execution_count": 242,
   "id": "c1073749-b1fd-4cc8-9002-a653d30962f3",
   "metadata": {},
   "outputs": [],
   "source": [
    "n = 4\n",
    "delta = 0.5\n",
    "E = np.ones((n,n)) \n",
    "W = (1 -np.sqrt(delta))/(n-1)*(E - np.eye(n))\n",
    "A = W\n",
    "B = W - np.eye(n)\n",
    "\n",
    "C = W + np.sqrt(delta)*np.eye(n)"
   ]
  },
  {
   "cell_type": "code",
   "execution_count": 243,
   "id": "5a82ea48-8dcd-45ae-bdef-b459d486626f",
   "metadata": {
    "tags": []
   },
   "outputs": [
    {
     "name": "stdout",
     "output_type": "stream",
     "text": [
      "Ошибка ответа 0.000000\n"
     ]
    },
    {
     "data": {
      "image/png": "[encoded data removed]",
      "text/plain": [
       "<Figure size 432x288 with 1 Axes>"
      ]
     },
     "metadata": {
      "needs_background": "light"
     },
     "output_type": "display_data"
    }
   ],
   "source": [
    "X,errors = newton_1(A, B, C, 5000, 1e-7)\n",
    "plt.plot(errors)\n",
    "plt.xlabel('Номер итерации')\n",
    "plt.ylabel('Величина ошибки')\n",
    "plt.title('Сходимость метода Ньютона')\n",
    "print('Ошибка ответа %f' % np.linalg.norm(f_1(A, B, C, X)))"
   ]
  },
  {
   "cell_type": "markdown",
   "id": "ac4cbc3b-c93f-449b-bcca-11546522dfd8",
   "metadata": {},
   "source": [
    "We see that at the initial iterations, due to the choice of a not quite suitable initial approximation, there is an error fluctuation, but on the whole the method converges with a high accuracy"
   ]
  },
  {
   "cell_type": "code",
   "execution_count": 244,
   "id": "2d1e964c-4017-42d6-91cc-11a3f664f9d6",
   "metadata": {},
   "outputs": [],
   "source": [
    "def newton_2(D, max_iter_num, eps):\n",
    "    errors =[]\n",
    "    X_k = D\n",
    "    for i in range(max_iter_num):\n",
    "        delta_X = np.linalg.solve(2*X_k, -f_2(D, X_k))\n",
    "        errors.append(np.linalg.norm(f_2(D, X_k)))\n",
    "        X_k += delta_X\n",
    "\n",
    "        if(np.linalg.norm(delta_X) < eps):\n",
    "            break\n",
    "    return X_k, errors"
   ]
  },
  {
   "cell_type": "code",
   "execution_count": 245,
   "id": "1dc98168-1aa2-48c8-8f72-cc9963069615",
   "metadata": {},
   "outputs": [
    {
     "name": "stdout",
     "output_type": "stream",
     "text": [
      "Ошибка ответа 0.000000\n"
     ]
    },
    {
     "data": {
      "image/png": "[encoded data removed]",
      "text/plain": [
       "<Figure size 432x288 with 1 Axes>"
      ]
     },
     "metadata": {
      "needs_background": "light"
     },
     "output_type": "display_data"
    }
   ],
   "source": [
    "D = np.eye(10)\n",
    "for i in range(10):\n",
    "    for j in range(10):\n",
    "        D[i][j] = (1 + j)/1000.\n",
    "for i in range(10):\n",
    "    D[i][i] = i/20.\n",
    "\n",
    "X, errors = newton_2(D, 5000, 1e-7)\n",
    "plt.plot(errors)\n",
    "plt.xlabel('Номер итерации')\n",
    "plt.ylabel('Величина ошибки')\n",
    "plt.title('Сходимость метода Ньютона')\n",
    "print('Ошибка ответа %f' % np.linalg.norm(f_2(D, X)))"
   ]
  },
  {
   "cell_type": "markdown",
   "id": "251674bf-bba6-48d3-8db0-8f25f4fc6eb1",
   "metadata": {},
   "source": [
    "For a given equation and matrix, Newton's method converges with great accuracy rather quickly"
   ]
  },
  {
   "cell_type": "markdown",
   "id": "a42dd12d-30e8-4f52-93de-187e5f0d61d3",
   "metadata": {},
   "source": [
    "# Solving the equation using the secant method"
   ]
  },
  {
   "cell_type": "code",
   "execution_count": 246,
   "id": "1535bbfe-9c96-4dff-9b13-a50eb15563a7",
   "metadata": {},
   "outputs": [],
   "source": [
    "def f(x, A):\n",
    "    I = np.eye(A.shape[0])\n",
    "    return A@x-I\n",
    "    "
   ]
  },
  {
   "cell_type": "code",
   "execution_count": 247,
   "id": "29edea63-7c5e-4de1-9f89-453ef444738d",
   "metadata": {},
   "outputs": [],
   "source": [
    "def cut_method(max_iter_num, eps, n):\n",
    "    errors = []\n",
    "    A = np.random.normal(size=(n,n))\n",
    "    A_1 = (A.T)/(np.linalg.norm(A))**2\n",
    "    A_0 = 0.5*A_1\n",
    "    x_k = A_1\n",
    "    x_l = A_0\n",
    "    for i in range(max_iter_num):\n",
    "        x_n = x_k - ((x_k - x_l).dot(np.linalg.inv(f(x_k, A) - f(x_l, A))).dot(f(x_k, A)))\n",
    "        error = np.linalg.norm(x_n - x_k)\n",
    "        errors.append(error)\n",
    "        if(np.linalg.norm(x_n - x_k) < eps):\n",
    "            break\n",
    "        x_l = x_k.copy()\n",
    "        x_k = x_n.copy()\n",
    "    return x_n, errors, A"
   ]
  },
  {
   "cell_type": "code",
   "execution_count": 248,
   "id": "dbb209ea-f10d-4e55-a0ce-343b6e0a54bd",
   "metadata": {},
   "outputs": [
    {
     "name": "stdout",
     "output_type": "stream",
     "text": [
      "[[ 1.  0. -0.  0.  0.  0.  0.  0. -0.  0.]\n",
      " [ 0.  1.  0.  0. -0. -0. -0.  0. -0.  0.]\n",
      " [ 0.  0.  1.  0. -0.  0.  0. -0. -0. -0.]\n",
      " [ 0.  0.  0.  1.  0. -0.  0. -0. -0. -0.]\n",
      " [ 0. -0. -0.  0.  1. -0.  0. -0. -0.  0.]\n",
      " [-0. -0.  0.  0.  0.  1.  0. -0. -0.  0.]\n",
      " [ 0.  0.  0.  0. -0. -0.  1.  0. -0.  0.]\n",
      " [-0.  0. -0. -0.  0.  0.  0.  1. -0. -0.]\n",
      " [-0.  0.  0.  0.  0. -0. -0.  0.  1.  0.]\n",
      " [ 0. -0.  0. -0.  0.  0. -0. -0.  0.  1.]]\n"
     ]
    },
    {
     "data": {
      "image/png": "[encoded data removed]",
      "text/plain": [
       "<Figure size 432x288 with 1 Axes>"
      ]
     },
     "metadata": {
      "needs_background": "light"
     },
     "output_type": "display_data"
    }
   ],
   "source": [
    "#matrix nxn, n = 10\n",
    "X, errors, A = cut_method(10000, 1e-13, 10)\n",
    "plt.plot(errors)\n",
    "plt.xlabel('Номер итерации')\n",
    "plt.ylabel('Величина ошибки')\n",
    "plt.title('Сходимость метода секущих, n = 10')\n",
    "print(np.round(A@X,6))"
   ]
  },
  {
   "cell_type": "code",
   "execution_count": null,
   "id": "93be900f-3866-4248-acb5-639c47fb767c",
   "metadata": {},
   "outputs": [],
   "source": []
  },
  {
   "cell_type": "code",
   "execution_count": null,
   "id": "e1b7540a-04c1-4841-9d83-ecfc51968a42",
   "metadata": {},
   "outputs": [],
   "source": []
  }
 ],
 "metadata": {
  "kernelspec": {
   "display_name": "Python 3 (ipykernel)",
   "language": "python",
   "name": "python3"
  },
  "language_info": {
   "codemirror_mode": {
    "name": "ipython",
    "version": 3
   },
   "file_extension": ".py",
   "mimetype": "text/x-python",
   "name": "python",
   "nbconvert_exporter": "python",
   "pygments_lexer": "ipython3",
   "version": "3.8.10"
  }
 },
 "nbformat": 4,
 "nbformat_minor": 5
}
