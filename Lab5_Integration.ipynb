{
 "cells": [
  {
   "cell_type": "markdown",
   "id": "d6cd8ff3-f3b8-450e-ae9f-52cb65f9b225",
   "metadata": {},
   "source": [
    "# Lab5 Integtation"
   ]
  },
  {
   "cell_type": "markdown",
   "id": "498f62aa-f6f9-494b-bd8e-3c51da9381cf",
   "metadata": {},
   "source": [
    "# Quadrate Formules\n",
    "<font size = '5'> </font>    \n",
    "\n",
    "<font size = '4'>The main problem of numerical integration: Find the approximate value of a definite integral </font>    \n",
    "><font size = '3'>$S(f) \\approx I(f) = \\int_{a}^{b}f(x)dx$ </font>    \n",
    "\n",
    "\n",
    "<font size = '4'> Here we will be helped by __Quadrature Formulas__ (Newton - Cotes formulas) </font>    \n",
    "## IDEA\n",
    "<font size = '4'> Take the mapping of the segment [-1, 1] to [a, b]: </font>    \n",
    "><font size = '3'>$x = x(t) = \\frac{a + b}{2} + \\frac{b - a}{2}t$ </font>    \n",
    ">\n",
    "><font size = '3'>$t_1, \\cdots, t_n \\in [-1, 1], x_i = x(t_i)$ </font>    \n",
    "\n",
    "<font size = '4'>We construct an interpolation polynomial: </font>    \n",
    "><font size = '3'>$L_{n-1}(x) = \\sum_{i=1}^{n}f(x_i)l_i(x) = \\sum_{i=1}^{n}f(x_i) \\prod_{j=i, j \\neq i}^{n} \\frac{x - x_j}{x_i - x_j}$ </font>    \n",
    "\n",
    "<font size = '4'>And Integrate that: </font>    \n",
    "><font size = '3'>$S(f) = \\int_{a}^{b} L_{n - 1}(x)dx = \\sum_{i = 1}^{n} d_i f(x_i), d_i = \\frac{b - a}{2} \\int_{-1}^{1} l_i(t)dt$ </font>  \n",
    "\n",
    "<font size = '5'>Wow, we get uniform formul</font>    \n",
    "\n",
    "<font size = '4'> Find error these integral(get of formul for err interpolation polynomial):  </font>    \n",
    "><font size = '3'>$\\bigg|I(f) - S(f)\\bigg| \\leq \\frac{||f^{(n)}||_C}{n!}\\bigg(\\frac{b-a}{2}\\bigg)^{n + 1}\\int_{-1}^{1}\\bigg|\\prod_{j=1}{n}(t - t_j)\\bigg|dt$ </font>       "
   ]
  },
  {
   "cell_type": "code",
   "execution_count": 336,
   "id": "cd409e42-5bed-44d1-8908-2b751919d88b",
   "metadata": {},
   "outputs": [],
   "source": [
    "import numpy as np\n",
    "import matplotlib.pyplot as plt"
   ]
  },
  {
   "cell_type": "markdown",
   "id": "a6658a73-6c5f-499b-b2a1-3db56b0cb0bb",
   "metadata": {},
   "source": [
    "# Start function"
   ]
  },
  {
   "cell_type": "code",
   "execution_count": 505,
   "id": "9e631ddd-bad0-4d97-8851-7a459150b9ca",
   "metadata": {},
   "outputs": [],
   "source": [
    "start = -np.pi\n",
    "end   = np.pi\n",
    "\n",
    "func = lambda x: np.exp(x)\n",
    "Real_answ = np.exp(end) - np.exp(start)\n",
    "\n",
    "# func = lambda x: x**2\n",
    "# Real_answ = ((end**3) - (start**3))/3\n",
    "\n",
    "# func = lambda x: np.sin(x) + 3\n",
    "# Real_answ = -np.cos(end) + np.cos(start) + 3*(end) - 3*(start)\n",
    "\n",
    "# func = lambda x: np.abs(x)\n",
    "# Real_answ = np.sign(start)*start - np.sign(end)*end\n",
    "\n",
    "# func = lambda x: 1/(25*x**2 + 1)\n",
    "# Real_answ = 1/5*np.arctan(5*start) - 1/5*np.arctan(5*end)"
   ]
  },
  {
   "cell_type": "markdown",
   "id": "dcb93a8b-bdac-4d6d-a510-9a81fd486529",
   "metadata": {},
   "source": [
    "# Calc own ERROR"
   ]
  },
  {
   "cell_type": "code",
   "execution_count": 584,
   "id": "eaf10fcc-de97-4b8a-b527-9b2ef0d0de24",
   "metadata": {},
   "outputs": [],
   "source": [
    "def linearize (X, Y):\n",
    "    A = np.vstack ([X, np.ones (X.size)]).T\n",
    "    k, b = np.linalg.lstsq (A, Y, rcond=None)[0]\n",
    "\n",
    "    return k, b\n",
    "\n",
    "def Ierr(Ifunc):\n",
    "    err = np.array([])\n",
    "    rng = range(10, 50)\n",
    "    arr_distance = np.array([])\n",
    "    for n in rng:\n",
    "        xerr = np.linspace(start, end, n)\n",
    "        arr_distance = np.append(arr_distance, np.abs(xerr[0] - xerr[1]))\n",
    "        ans, b = Ifunc(func, xerr)\n",
    "        nerr = np.abs(ans - Real_answ)\n",
    "        err = np.append(err, nerr)    \n",
    "     \n",
    "    k1, b1 = linearize(np.log(arr_distance), np.log(err))\n",
    "    k2, b2 = linearize(np.log(arr_distance), np.log([1/(i**2) for i in rng]))\n",
    "    plt.plot(np.log(arr_distance), np.log(err), label='k1: Method error in log skale')  \n",
    "    plt.plot(np.log(arr_distance), np.log([1/(i**2) for i in rng]), label='k2: Only quadratic dependence')\n",
    "    plt.legend()\n",
    "    return k1, k2, err"
   ]
  },
  {
   "cell_type": "markdown",
   "id": "4c8a59f7-2744-4002-9699-387474c3efc1",
   "metadata": {},
   "source": [
    "# Rectangles"
   ]
  },
  {
   "cell_type": "markdown",
   "id": "294f7199-a436-4e41-9d54-127849bbfd4d",
   "metadata": {},
   "source": [
    "<font size='3'>Left or right rectangles.</font>\n",
    ">We divide the segment into n equidistant points. We sum up the rectangles, take the left or right point."
   ]
  },
  {
   "cell_type": "code",
   "execution_count": 585,
   "id": "2c7bfc8b-788c-4ce0-93c9-21677cdc0251",
   "metadata": {},
   "outputs": [],
   "source": [
    "def Integr_rec(func, x):\n",
    "    n = len(x)\n",
    "    y = func(x)\n",
    "    ans = np.sum(y[0:n - 1]*([x[i + 1] - x[i] for i in range(n - 1)]))\n",
    "    blocks = [ [y[i + 1], x[i], x[i + 1]] for i in range(n - 1)]\n",
    "    return ans, blocks"
   ]
  },
  {
   "cell_type": "code",
   "execution_count": 586,
   "id": "2f4b3496-acc8-4b02-9b4d-cb5533c7e8d9",
   "metadata": {},
   "outputs": [
    {
     "name": "stdout",
     "output_type": "stream",
     "text": [
      "Integral_my: 15.965523815584042, Integral_real: 23.097478714515496\n",
      "Error: 7.131954898931454\n"
     ]
    },
    {
     "data": {
      "image/png": "[encoded data removed]",
      "text/plain": [
       "<Figure size 432x288 with 1 Axes>"
      ]
     },
     "metadata": {
      "needs_background": "light"
     },
     "output_type": "display_data"
    }
   ],
   "source": [
    "n  = 10\n",
    "x  = np.linspace(start, end, n)\n",
    "y  = func(x)\n",
    "xx = np.linspace(start, end, 1000)\n",
    "yy = func(xx)\n",
    "\n",
    "integr, blocks = Integr_rec(func, x)\n",
    "\n",
    "print(\"Integral_my: {}, Integral_real: {}\".format(integr, Real_answ))\n",
    "print(\"Error: {}\".format(np.abs(integr - Real_answ)))\n",
    "plt.plot(xx, yy)\n",
    "plt.plot(xx, len(xx)*[0])\n",
    "plt.scatter (x, y, c='r')\n",
    "\n",
    "for i in range(len(blocks)):\n",
    "    plt.fill_between([blocks[i][2], blocks[i][1]], [blocks[i][0], blocks[i][0]], color='g', alpha=0.3)"
   ]
  },
  {
   "cell_type": "markdown",
   "id": "991bb931-4637-4425-bce6-195e32508e54",
   "metadata": {},
   "source": [
    "### Error\n",
    "#### __The error approximate Integral depends on h linearly__"
   ]
  },
  {
   "cell_type": "code",
   "execution_count": 587,
   "id": "6305a28c-8b71-4c3d-a58a-a6530ad8f79c",
   "metadata": {
    "tags": []
   },
   "outputs": [
    {
     "data": {
      "text/plain": [
       "(0.9470768741894128,\n",
       " 1.9091819497833518,\n",
       " array([7.1319549 , 6.5013636 , 5.97201592, 5.52160924, 5.13386895,\n",
       "        4.79666524, 4.5007852 , 4.23911266, 4.00606769, 3.79721561,\n",
       "        3.60898892, 3.43848608, 3.28332366, 3.14152597, 3.01144175,\n",
       "        2.89168033, 2.78106233, 2.67858107, 2.58337217, 2.49468926,\n",
       "        2.41188459, 2.33439324, 2.26172036, 2.19343061, 2.12913949,\n",
       "        2.06850616, 2.01122739, 1.95703256, 1.90567933, 1.85695013,\n",
       "        1.81064898, 1.76659897, 1.72463993, 1.68462652, 1.64642658,\n",
       "        1.60991963, 1.57499563, 1.54155385, 1.50950196, 1.47875511]))"
      ]
     },
     "execution_count": 587,
     "metadata": {},
     "output_type": "execute_result"
    },
    {
     "data": {
      "image/png": "[encoded data removed]",
      "text/plain": [
       "<Figure size 432x288 with 1 Axes>"
      ]
     },
     "metadata": {
      "needs_background": "light"
     },
     "output_type": "display_data"
    }
   ],
   "source": [
    "Ierr(Integr_rec)"
   ]
  },
  {
   "cell_type": "markdown",
   "id": "3134a653-9de2-4345-be9f-0f876639428f",
   "metadata": {},
   "source": [
    "# Center rectangles"
   ]
  },
  {
   "cell_type": "markdown",
   "id": "8f3fbb79-515e-4f30-8912-d22a5be0e8ee",
   "metadata": {},
   "source": [
    "### How get center rectangles?\n",
    "\n",
    "<font size = '4'>Let us look for an interpolation polynomial at one point then:</font>    \n",
    "><font size = '3'>$n = 1$ and let's $h = b - a, M_m = ||f^{(m)}||_{C[a, b]}$ </font>    \n",
    ">\n",
    "><font size = '3'>$n = 1 \\Rightarrow S(f) = f\\bigg(\\frac{a + b}{2}\\bigg)h,\\;\\;\\;\\; \\bigg|I(f) - S(f)\\bigg| \\leq \\frac{1}{4}M_1h^2$ </font>    \n",
    "><font size = '4'> UPD: error formula is not precise enough, we can use ermit interpolation and get:</font>    \n",
    ">><font size = '3'> $t_1 = t_2 = 0: H(t) = f(0) + f^{'}(0)t \\Rightarrow f \\in C^2: \\bigg|I(f) - S(f)\\bigg| \\leq \\frac{1}{24}M_2h^3$ </font>  \n",
    "\n",
    "<font size = '5'>And we got the legal formula for Center Rectangles !!! </font>    "
   ]
  },
  {
   "cell_type": "code",
   "execution_count": 588,
   "id": "e9b5af3e-456d-4055-a949-f4d9bd1edf92",
   "metadata": {},
   "outputs": [],
   "source": [
    "def Integr_crec(f, x):\n",
    "    n = len(x)\n",
    "    ans = 0\n",
    "    for i in range(1, n):\n",
    "        ans += f((x[i] + x[i - 1])/2)*(x[i] - x[i - 1])\n",
    "    blocks = [ [f((x[i + 1] + x[i])/2), x[i], x[i + 1]] for i in range(n - 1)]\n",
    "    return ans, blocks"
   ]
  },
  {
   "cell_type": "code",
   "execution_count": 589,
   "id": "7ca43ef5-fe98-476c-823f-3f3270907204",
   "metadata": {},
   "outputs": [
    {
     "name": "stdout",
     "output_type": "stream",
     "text": [
      "Integral_my: 22.635002385409102, Integral_real: 23.097478714515496\n",
      "Error: 0.46247632910639425\n"
     ]
    },
    {
     "data": {
      "image/png": "[encoded data removed]",
      "text/plain": [
       "<Figure size 432x288 with 1 Axes>"
      ]
     },
     "metadata": {
      "needs_background": "light"
     },
     "output_type": "display_data"
    }
   ],
   "source": [
    "n  = 10\n",
    "x  = np.linspace(start, end, n)\n",
    "y  = func(x)\n",
    "xx = np.linspace(start, end, 1000)\n",
    "yy = func(xx)\n",
    "\n",
    "integr, blocks = Integr_crec(func, x)\n",
    "\n",
    "print(\"Integral_my: {}, Integral_real: {}\".format(integr, Real_answ))\n",
    "print(\"Error: {}\".format(np.abs(integr - Real_answ)))\n",
    "plt.plot(xx, yy)\n",
    "plt.plot(xx, len(xx)*[0])\n",
    "plt.scatter (x, y, c='r')\n",
    "\n",
    "for i in range(len(blocks)):\n",
    "    plt.fill_between([blocks[i][2], blocks[i][1]], [blocks[i][0], blocks[i][0]], color='g', alpha=0.3)\n"
   ]
  },
  {
   "cell_type": "markdown",
   "id": "0302b2c4-f0fd-4134-b8b4-91ddff82fa5d",
   "metadata": {},
   "source": [
    "## Error Center rectagles\n",
    "#### __The error approximate Integral depends on h quadratically__"
   ]
  },
  {
   "cell_type": "code",
   "execution_count": 590,
   "id": "03c615ae-bee6-4663-a571-6f7a5c33db17",
   "metadata": {},
   "outputs": [
    {
     "data": {
      "text/plain": [
       "(1.9938899585326475,\n",
       " 1.9091819497833518,\n",
       " array([0.46247633, 0.37560855, 0.31103602, 0.26175141, 0.22329319,\n",
       "        0.19271328, 0.16800128, 0.14774856, 0.13094462, 0.1168495 ,\n",
       "        0.10491134, 0.09471186, 0.08592939, 0.0783133 , 0.07166596,\n",
       "        0.06582989, 0.06067832, 0.0561083 , 0.05203553, 0.04839044,\n",
       "        0.04511519, 0.04216142, 0.0394884 , 0.03706167, 0.03485188,\n",
       "        0.03283393, 0.03098624, 0.0292902 , 0.02772965, 0.02629055,\n",
       "        0.02496061, 0.02372907, 0.02258645, 0.0215244 , 0.02053552,\n",
       "        0.01961325, 0.01875172, 0.01794573, 0.0171906 , 0.01648214]))"
      ]
     },
     "execution_count": 590,
     "metadata": {},
     "output_type": "execute_result"
    },
    {
     "data": {
      "image/png": "[encoded data removed]",
      "text/plain": [
       "<Figure size 432x288 with 1 Axes>"
      ]
     },
     "metadata": {
      "needs_background": "light"
     },
     "output_type": "display_data"
    }
   ],
   "source": [
    "Ierr(Integr_crec)  "
   ]
  },
  {
   "cell_type": "markdown",
   "id": "02f53e5a-8cda-4438-9a86-9025c911ef89",
   "metadata": {},
   "source": [
    "# Trapeze"
   ]
  },
  {
   "cell_type": "markdown",
   "id": "60afc4d9-51c8-4436-b557-7cce8c98b72e",
   "metadata": {},
   "source": [
    "### How get Trapze formul?\n",
    "\n",
    "<font size = '4'>let us look for an interpolation polynomial at one point then:</font>    \n",
    "><font size = '3'>$n = 2$ and let's $h = b - a, M_m = ||f^{(m)}||_{C[a, b]}$ </font>    \n",
    ">\n",
    "><font size = '3'>$n = 2 \\Rightarrow S(f) = \\frac{f(a) + f(b)}{2}h,\\;\\;\\;\\; \\bigg|I(f) - S(f)\\bigg| \\leq \\frac{1}{12}M_2h^2$ </font>    \n",
    "\n",
    "<font size = '5'>And we got the legal formula for Trapeze integration !!! </font>   "
   ]
  },
  {
   "cell_type": "code",
   "execution_count": 591,
   "id": "03f04c92-086a-475b-872c-1c572c39c2cb",
   "metadata": {},
   "outputs": [],
   "source": [
    "def Integr_trap(f, x):\n",
    "    n = len(x)\n",
    "    ans = 0\n",
    "    for i in range(1, n):\n",
    "        ans += ((f(x[i]) + f(x[i - 1]))/2)*(x[i] - x[i - 1])\n",
    "    blocks = [ [f(x[i + 1]), f(x[i]), x[i], x[i + 1]] for i in range(n - 1)]\n",
    "    return ans,blocks"
   ]
  },
  {
   "cell_type": "code",
   "execution_count": 592,
   "id": "d34ef21a-d738-402f-9803-db399a5e21da",
   "metadata": {},
   "outputs": [
    {
     "name": "stdout",
     "output_type": "stream",
     "text": [
      "Integral_my: 24.028064865136095, Integral_real: 23.097478714515496\n",
      "Error: 0.9305861506205986\n"
     ]
    },
    {
     "data": {
      "image/png": "[encoded data removed]",
      "text/plain": [
       "<Figure size 432x288 with 1 Axes>"
      ]
     },
     "metadata": {
      "needs_background": "light"
     },
     "output_type": "display_data"
    }
   ],
   "source": [
    "n  = 10\n",
    "x  = np.linspace(start, end, n)\n",
    "y  = func(x)\n",
    "xx = np.linspace(start, end, 1000)\n",
    "yy = func(xx)\n",
    "\n",
    "integr, blocks = Integr_trap(func, x)\n",
    "\n",
    "print(\"Integral_my: {}, Integral_real: {}\".format(integr, Real_answ))\n",
    "print(\"Error: {}\".format(np.abs(integr - Real_answ)))\n",
    "plt.plot(xx, yy)\n",
    "plt.plot(xx, len(xx)*[0])\n",
    "plt.scatter (x, y, c='r')\n",
    "\n",
    "for i in range(len(blocks)):\n",
    "    plt.fill_between([blocks[i][3], blocks[i][2]], [blocks[i][0], blocks[i][1]], color='g', alpha=0.3)\n"
   ]
  },
  {
   "cell_type": "markdown",
   "id": "0f240546-6841-4203-9394-9117f3f1412c",
   "metadata": {},
   "source": [
    "## Error Trapeze method \n",
    "#### __The error approximate Integral depends on h quadratically__"
   ]
  },
  {
   "cell_type": "code",
   "execution_count": 593,
   "id": "229c3bb5-e1e2-4b45-be7e-7e049b4cd0d2",
   "metadata": {},
   "outputs": [
    {
     "data": {
      "text/plain": [
       "(1.9965131250358714,\n",
       " 1.9091819497833518,\n",
       " array([0.93058615, 0.75492334, 0.62460857, 0.52529655, 0.44789023,\n",
       "        0.38639686, 0.33673943, 0.29606668, 0.26233639, 0.23405491,\n",
       "        0.21010948, 0.18965739, 0.17205108, 0.15678628, 0.14346562,\n",
       "        0.13177257, 0.12145245, 0.11229852, 0.10414151, 0.09684179,\n",
       "        0.09028332, 0.08436907, 0.07901736, 0.07415906, 0.06973534,\n",
       "        0.06569589, 0.06199745, 0.05860271, 0.0554793 , 0.05259907,\n",
       "        0.04993741, 0.04747277, 0.04518616, 0.04306085, 0.04108201,\n",
       "        0.03923649, 0.03751258, 0.03589983, 0.03438888, 0.03297134]))"
      ]
     },
     "execution_count": 593,
     "metadata": {},
     "output_type": "execute_result"
    },
    {
     "data": {
      "image/png": "[encoded data removed]",
      "text/plain": [
       "<Figure size 432x288 with 1 Axes>"
      ]
     },
     "metadata": {
      "needs_background": "light"
     },
     "output_type": "display_data"
    }
   ],
   "source": [
    "Ierr(Integr_trap)  "
   ]
  },
  {
   "cell_type": "markdown",
   "id": "79366591-462d-4fba-b38f-b92b278dba7d",
   "metadata": {},
   "source": [
    "# Simpson's rule"
   ]
  },
  {
   "cell_type": "markdown",
   "id": "123b27c2-0d39-4d55-a491-fa2065083eb3",
   "metadata": {},
   "source": [
    "### How get Trapze formul?\n",
    "\n",
    "#### Simpson's formula will turn out if we interpolate at three points -1, 0, +1 will give the result\n",
    ">#### (Hermitian interpolation with multiple nodes -1, 0, 0, +1 will also give the same result) \n",
    ">>#### $S(f) = \\frac{h}{6}\\bigg(f(a) + 4f\\frac{a + b}{2} + f(b)\\bigg), E \\leq Ch^4$"
   ]
  },
  {
   "cell_type": "code",
   "execution_count": 601,
   "id": "13c3afc6-f913-436c-8840-0dec8d5a5420",
   "metadata": {},
   "outputs": [],
   "source": [
    "from scipy.interpolate import BarycentricInterpolator\n",
    "def Integr_sim(f, x):\n",
    "    n = len(x)\n",
    "    ans = 0\n",
    "    for i in range(0, n - 1):\n",
    "        ans += (f(x[i]) + 4 * f((x[i] + x[i + 1])/2) + f(x[i + 1])) * (x[i + 1] - x[i])\n",
    "    ans /= 6    \n",
    "    \n",
    "    blocks = [ [f(x[i]), f((x[i] + x[i + 1])/2), f(x[i + 1]), x[i], x[i + 1]] for i in range(n - 1)]\n",
    "    return ans,blocks"
   ]
  },
  {
   "cell_type": "code",
   "execution_count": 602,
   "id": "a970496b-5f78-4b66-9c3c-0b02de2f83ef",
   "metadata": {},
   "outputs": [
    {
     "name": "stdout",
     "output_type": "stream",
     "text": [
      "Integral_my: 23.099356545318102, Integral_real: 23.097478714515496\n",
      "Error: 0.0018778308026057289\n"
     ]
    },
    {
     "data": {
      "image/png": "[encoded data removed]",
      "text/plain": [
       "<Figure size 432x288 with 1 Axes>"
      ]
     },
     "metadata": {
      "needs_background": "light"
     },
     "output_type": "display_data"
    }
   ],
   "source": [
    "n  = 10\n",
    "x  = np.linspace(start, end, n)\n",
    "y  = func(x)\n",
    "xx = np.linspace(start, end, 1000)\n",
    "yy = func(xx)\n",
    "\n",
    "integr, blocks = Integr_sim(func, x)\n",
    "\n",
    "print(\"Integral_my: {}, Integral_real: {}\".format(integr, Real_answ))\n",
    "print(\"Error: {}\".format(np.abs(integr - Real_answ)))\n",
    "plt.plot(xx, yy)\n",
    "plt.plot(xx, len(xx)*[0])\n",
    "plt.scatter (x, y, c='r')\n",
    "\n",
    "for i in range(0, n -1):\n",
    "    xxx = np.linspace(x[i], x[i + 1], 50)\n",
    "    inter_X = [x[i], (x[i] + x[i + 1])/2, x[i + 1]]\n",
    "    inter_Y = [func(x[i]), func((x[i] + x[i + 1])/2), func(x[i + 1])]\n",
    "    interpol_func = BarycentricInterpolator(inter_X, inter_Y)\n",
    "    yyy = interpol_func(xxx)\n",
    "    plt.fill_between(xxx, yyy, color='g', alpha=0.3)\n"
   ]
  },
  {
   "cell_type": "markdown",
   "id": "83973137-a42d-4ae5-9434-65e80fb97469",
   "metadata": {},
   "source": [
    "## Error Simson's method\n",
    "#### __The error approximate Integral depends on $O(h^4)$ __"
   ]
  },
  {
   "cell_type": "code",
   "execution_count": 600,
   "id": "06ed747a-c79b-4cf7-9aec-21ae08828b8b",
   "metadata": {},
   "outputs": [
    {
     "data": {
      "text/plain": [
       "(3.9937643570620156,\n",
       " 1.9091819497833518,\n",
       " array([1.87783080e-03, 1.23541128e-03, 8.45510933e-04, 5.97907488e-04,\n",
       "        4.34617049e-04, 3.23431202e-04, 2.45619671e-04, 1.89854918e-04,\n",
       "        1.49050334e-04, 1.18639360e-04, 9.56016540e-05, 7.78928006e-05,\n",
       "        6.41000651e-05, 5.32289042e-05, 4.45673109e-05, 3.75977096e-05,\n",
       "        3.19385850e-05, 2.73051033e-05, 2.34821019e-05, 2.03052783e-05,\n",
       "        1.76479045e-05, 1.54113205e-05, 1.35180500e-05, 1.19067586e-05,\n",
       "        1.05285223e-05, 9.34403915e-06, 8.32152619e-06, 7.43511967e-06,\n",
       "        6.66364805e-06, 5.98968396e-06, 5.39880629e-06, 4.87902185e-06,\n",
       "        4.42030931e-06, 4.01425725e-06, 3.65377527e-06, 3.33286210e-06,\n",
       "        3.04641857e-06, 2.79009592e-06, 2.56017220e-06, 2.35345111e-06]))"
      ]
     },
     "execution_count": 600,
     "metadata": {},
     "output_type": "execute_result"
    },
    {
     "data": {
      "image/png": "[encoded data removed]",
      "text/plain": [
       "<Figure size 432x288 with 1 Axes>"
      ]
     },
     "metadata": {
      "needs_background": "light"
     },
     "output_type": "display_data"
    }
   ],
   "source": [
    "Ierr(Integr_sim)"
   ]
  },
  {
   "cell_type": "markdown",
   "id": "a7199d69-7171-49a0-8c24-7d81c4ae47b8",
   "metadata": {},
   "source": [
    "### __Fun fact: We can split a segment into N different length: $\\frac{b - a}{N}$__\n",
    "### And then apply any quadrature formula on each segment (different quadrature formulas can be used on different segments),\n",
    "### Adding the results on different segments.\n",
    "\n",
    "### Then the compound error will be:\n",
    ">### $E = NO(h^{p}) = \\frac{b - a}{h}O(h^p) = O(h^{p - 1})$, p - order of precision"
   ]
  },
  {
   "cell_type": "markdown",
   "id": "ee4cf9f6-e60c-4abb-8f9b-6256d04e77e3",
   "metadata": {},
   "source": [
    "# Runge"
   ]
  },
  {
   "cell_type": "markdown",
   "id": "afa85cbc-c774-4ca1-b015-ac57b23d92d4",
   "metadata": {},
   "source": [
    "### Consider a formulac $S_1$ with algebraic precision n - 1 on a segment of length h, c - midpoint\n",
    "\n",
    "### Expand the function into a Taylor series at the point. Since the algebraic precision is n - 1, then:\n",
    ">### $I(f) - S_1(f) =  \\alpha f^{(n)}(c)h^{n + 1} + O(h^{n + 2}) $\n",
    "### we divide the segment into 2 parts and apply our formula $S_1$ to each:\n",
    ">### $I(f) - S_2(f)  =  \\alpha f^{(n)}(c)\\frac{h^{n + 1}}{2^{n}} + O(h^{n + 2}) \\Rightarrow$\n",
    "### Subtract:\n",
    ">### $I(f) - S_2(f) = \\frac{S_2 - S_1}{2^n - 1}$\n",
    "\n",
    "### We can thicken the integration grid in half, calculate the difference between $S_2 - S_1$, and divide by $2^n - 1$. \n",
    "## And this will be an excellent error estimate for our formula\n"
   ]
  },
  {
   "cell_type": "markdown",
   "id": "a18b4e01-d5a6-4723-a341-6db9524f9675",
   "metadata": {},
   "source": [
    "## It turns out that we can split the grid and count the integrals until we get sufficient accuracy"
   ]
  },
  {
   "cell_type": "code",
   "execution_count": 490,
   "id": "2d3c47dd-114f-49ec-bac4-fe054cab90c3",
   "metadata": {},
   "outputs": [],
   "source": [
    "def runge(Ifunc, n0, eps=1e-2):\n",
    "    \n",
    "    \n",
    "    \n",
    "    x0  = np.linspace(start, end, n0)\n",
    "    y0  = func(x)\n",
    "\n",
    "    I0, blocks0 = Ifunc(func, x0)\n",
    "\n",
    "    print(\"Start_intergal: {}, Integral_real: {}\".format(I0, Real_answ))\n",
    "    print(\"Start_Error: {}\".format(np.abs(I0 - Real_answ)))\n",
    "    print(\"n start: {}\\n\\n\".format(n0))\n",
    "    \n",
    "    n2 = n0*2\n",
    "    x2 = np.linspace(start, end, n2)\n",
    "    I2, blocks2 = Ifunc(func, x2)\n",
    "\n",
    "    delta = (np.abs(I2 - I0))/3\n",
    "\n",
    "    while delta  > eps:\n",
    "\n",
    "        I0 = I2\n",
    "        n2 = n2*2\n",
    "        x2 = np.linspace(start, end, n2)\n",
    "        I2, blocks = Ifunc(func, x2)\n",
    "\n",
    "        delta = (np.abs(I2 - I0))/3\n",
    "\n",
    "    print(\"Integral_my: {}, Integral_real: {}\".format(I2, Real_answ))\n",
    "    print(\"Error: {}, RungeError: {}\".format(np.abs(I2 - Real_answ), delta))\n",
    "    print(\"n start: {}, n_end: {}\".format(n0, n2))\n",
    "\n",
    "    return n2"
   ]
  },
  {
   "cell_type": "markdown",
   "id": "d5e96559-0350-4313-a793-50a45c6ea845",
   "metadata": {},
   "source": [
    "## Rectangles"
   ]
  },
  {
   "cell_type": "code",
   "execution_count": 615,
   "id": "3737dbfa-b709-44e3-abbe-949d2d6c3228",
   "metadata": {},
   "outputs": [
    {
     "name": "stdout",
     "output_type": "stream",
     "text": [
      "Start_intergal: 3.27735318174009, Integral_real: 23.097478714515496\n",
      "Start_Error: 19.820125532775407\n",
      "n start: 3\n",
      "\n",
      "\n",
      "Integral_my: 23.09452612947483, Integral_real: 23.097478714515496\n",
      "Error: 0.0029525850406670884, RungeError: 0.000984191222606512\n",
      "n start: 3, n_end: 24576\n"
     ]
    },
    {
     "data": {
      "text/plain": [
       "24576"
      ]
     },
     "execution_count": 615,
     "metadata": {},
     "output_type": "execute_result"
    }
   ],
   "source": [
    "n0=3\n",
    "eps = 1e-3\n",
    "runge(Integr_rec, n0, eps)"
   ]
  },
  {
   "cell_type": "markdown",
   "id": "48d2a43f-458d-4fc8-8d83-50d70f9376ab",
   "metadata": {},
   "source": [
    "# Center rectels"
   ]
  },
  {
   "cell_type": "code",
   "execution_count": 616,
   "id": "f065fee0-0127-479e-90e3-24e2c0622dd3",
   "metadata": {},
   "outputs": [
    {
     "name": "stdout",
     "output_type": "stream",
     "text": [
      "Start_intergal: 15.765633350195529, Integral_real: 23.097478714515496\n",
      "Start_Error: 7.3318453643199675\n",
      "n start: 3\n",
      "\n",
      "\n",
      "Integral_my: 23.097219707150522, Integral_real: 23.097478714515496\n",
      "Error: 0.0002590073649741953, RungeError: 0.0002608095789149445\n",
      "n start: 3, n_end: 384\n"
     ]
    },
    {
     "data": {
      "text/plain": [
       "384"
      ]
     },
     "execution_count": 616,
     "metadata": {},
     "output_type": "execute_result"
    }
   ],
   "source": [
    "n0=3\n",
    "eps = 1e-3\n",
    "runge(Integr_crec, n0, eps)"
   ]
  },
  {
   "cell_type": "markdown",
   "id": "9dbdef11-56db-4ef0-9bf3-646fb17ef55a",
   "metadata": {},
   "source": [
    "# Trapeze"
   ]
  },
  {
   "cell_type": "code",
   "execution_count": 617,
   "id": "5fb4c0b8-0d4f-4816-bd63-16a926c673e7",
   "metadata": {},
   "outputs": [
    {
     "name": "stdout",
     "output_type": "stream",
     "text": [
      "Start_intergal: 39.55878790472434, Integral_real: 23.097478714515496\n",
      "Start_Error: 16.461309190208844\n",
      "n start: 3\n",
      "\n",
      "\n",
      "Integral_my: 23.0979967309881, Integral_real: 23.097478714515496\n",
      "Error: 0.000518016472604188, RungeError: 0.0005216279686356037\n",
      "n start: 3, n_end: 384\n"
     ]
    },
    {
     "data": {
      "text/plain": [
       "384"
      ]
     },
     "execution_count": 617,
     "metadata": {},
     "output_type": "execute_result"
    }
   ],
   "source": [
    "n0=3\n",
    "eps = 1e-3\n",
    "runge(Integr_trap, n0, eps)"
   ]
  },
  {
   "cell_type": "markdown",
   "id": "3d0f0300-d5bc-4c76-9727-608385c13db9",
   "metadata": {},
   "source": [
    "# Simon's method"
   ]
  },
  {
   "cell_type": "code",
   "execution_count": 618,
   "id": "db90deb4-5440-4b0c-9bf5-0fa9cae0d9d3",
   "metadata": {},
   "outputs": [
    {
     "name": "stdout",
     "output_type": "stream",
     "text": [
      "Start_intergal: 23.6966848683718, Integral_real: 23.097478714515496\n",
      "Start_Error: 0.5992061538563043\n",
      "n start: 3\n",
      "\n",
      "\n",
      "Integral_my: 23.0975232818264, Integral_real: 23.097478714515496\n",
      "Error: 4.4567310904852775e-05, RungeError: 0.0002669812073534672\n",
      "n start: 3, n_end: 24\n"
     ]
    },
    {
     "data": {
      "text/plain": [
       "24"
      ]
     },
     "execution_count": 618,
     "metadata": {},
     "output_type": "execute_result"
    }
   ],
   "source": [
    "n0=3\n",
    "eps = 1e-3\n",
    "runge(Integr_sim, n0, eps)"
   ]
  },
  {
   "cell_type": "markdown",
   "id": "116660c7-c63b-4236-8266-2de64d1550a8",
   "metadata": {},
   "source": [
    "# Improper integrals"
   ]
  },
  {
   "cell_type": "code",
   "execution_count": 619,
   "id": "0266a0e7-ee09-46b6-94ed-ab253da4170a",
   "metadata": {},
   "outputs": [],
   "source": [
    "imfunc = lambda x: np.cos(x)/np.sqrt(x)\n"
   ]
  },
  {
   "cell_type": "code",
   "execution_count": 620,
   "id": "6008c262-e4d7-4b2d-b233-edb455569bc9",
   "metadata": {},
   "outputs": [
    {
     "name": "stderr",
     "output_type": "stream",
     "text": [
      "/tmp/ipykernel_6031/4020757163.py:1: RuntimeWarning: divide by zero encountered in true_divide\n",
      "  imfunc = lambda x: np.cos(x)/np.sqrt(x)\n"
     ]
    },
    {
     "data": {
      "text/plain": [
       "[<matplotlib.lines.Line2D at 0x7fe81ba16430>]"
      ]
     },
     "execution_count": 620,
     "metadata": {},
     "output_type": "execute_result"
    },
    {
     "data": {
      "image/png": "[encoded data removed]",
      "text/plain": [
       "<Figure size 432x288 with 1 Axes>"
      ]
     },
     "metadata": {
      "needs_background": "light"
     },
     "output_type": "display_data"
    }
   ],
   "source": [
    "xx = np.linspace(0, 1, 1000)\n",
    "plt.plot(xx, imfunc(xx))"
   ]
  },
  {
   "cell_type": "code",
   "execution_count": null,
   "id": "e6baf272-93d3-4abc-91b4-382dc95ef3d8",
   "metadata": {},
   "outputs": [],
   "source": []
  }
 ],
 "metadata": {
  "kernelspec": {
   "display_name": "Python 3 (ipykernel)",
   "language": "python",
   "name": "python3"
  },
  "language_info": {
   "codemirror_mode": {
    "name": "ipython",
    "version": 3
   },
   "file_extension": ".py",
   "mimetype": "text/x-python",
   "name": "python",
   "nbconvert_exporter": "python",
   "pygments_lexer": "ipython3",
   "version": "3.8.10"
  }
 },
 "nbformat": 4,
 "nbformat_minor": 5
}
