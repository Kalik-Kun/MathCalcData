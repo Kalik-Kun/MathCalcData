{
 "cells": [
  {
   "cell_type": "markdown",
   "id": "d6cd8ff3-f3b8-450e-ae9f-52cb65f9b225",
   "metadata": {},
   "source": [
    "# Lab5 Integtation"
   ]
  },
  {
   "cell_type": "code",
   "execution_count": 336,
   "id": "cd409e42-5bed-44d1-8908-2b751919d88b",
   "metadata": {},
   "outputs": [],
   "source": [
    "import numpy as np\n",
    "import matplotlib.pyplot as plt"
   ]
  },
  {
   "cell_type": "code",
   "execution_count": 505,
   "id": "9e631ddd-bad0-4d97-8851-7a459150b9ca",
   "metadata": {},
   "outputs": [],
   "source": [
    "start = -np.pi\n",
    "end   = np.pi\n",
    "\n",
    "func = lambda x: np.exp(x)\n",
    "Real_answ = np.exp(end) - np.exp(start)\n",
    "\n",
    "# func = lambda x: x**2\n",
    "# Real_answ = ((end**3) - (start**3))/3\n",
    "\n",
    "# func = lambda x: np.sin(x) + 3\n",
    "# Real_answ = -np.cos(end) + np.cos(start) + 3*(end) - 3*(start)\n",
    "\n",
    "# func = lambda x: np.abs(x)\n",
    "# Real_answ = np.sign(start)*start - np.sign(end)*end\n",
    "\n",
    "# func = lambda x: 1/(25*x**2 + 1)\n",
    "# Real_answ = 1/5*np.arctan(5*start) - 1/5*np.arctan(5*end)"
   ]
  },
  {
   "cell_type": "markdown",
   "id": "4c8a59f7-2744-4002-9699-387474c3efc1",
   "metadata": {},
   "source": [
    "# Rectangles"
   ]
  },
  {
   "cell_type": "code",
   "execution_count": 506,
   "id": "2c7bfc8b-788c-4ce0-93c9-21677cdc0251",
   "metadata": {},
   "outputs": [],
   "source": [
    "def Integr_rec(func, x):\n",
    "    n = len(x)\n",
    "    y = func(x)\n",
    "    ans = np.sum(y[0:n - 1]*([x[i + 1] - x[i] for i in range(n - 1)]))\n",
    "    blocks = [ [y[i + 1], x[i], x[i + 1]] for i in range(n - 1)]\n",
    "    return ans, blocks"
   ]
  },
  {
   "cell_type": "code",
   "execution_count": 507,
   "id": "2f4b3496-acc8-4b02-9b4d-cb5533c7e8d9",
   "metadata": {},
   "outputs": [
    {
     "name": "stdout",
     "output_type": "stream",
     "text": [
      "Integral_my: 15.965523815584042, Integral_real: 23.097478714515496\n",
      "Error: 7.131954898931454\n"
     ]
    },
    {
     "data": {
      "image/png": "[encoded data removed]",
      "text/plain": [
       "<Figure size 432x288 with 1 Axes>"
      ]
     },
     "metadata": {
      "needs_background": "light"
     },
     "output_type": "display_data"
    }
   ],
   "source": [
    "n  = 10\n",
    "x  = np.linspace(start, end, n)\n",
    "y  = func(x)\n",
    "xx = np.linspace(start, end, 1000)\n",
    "yy = func(xx)\n",
    "\n",
    "integr, blocks = Integr_rec(func, x)\n",
    "\n",
    "print(\"Integral_my: {}, Integral_real: {}\".format(integr, Real_answ))\n",
    "print(\"Error: {}\".format(np.abs(integr - Real_answ)))\n",
    "plt.plot(xx, yy)\n",
    "plt.plot(xx, len(xx)*[0])\n",
    "plt.scatter (x, y, c='r')\n",
    "\n",
    "for i in range(len(blocks)):\n",
    "    plt.fill_between([blocks[i][2], blocks[i][1]], [blocks[i][0], blocks[i][0]], color='g', alpha=0.3)"
   ]
  },
  {
   "cell_type": "markdown",
   "id": "991bb931-4637-4425-bce6-195e32508e54",
   "metadata": {},
   "source": [
    "### Error"
   ]
  },
  {
   "cell_type": "code",
   "execution_count": 528,
   "id": "6305a28c-8b71-4c3d-a58a-a6530ad8f79c",
   "metadata": {},
   "outputs": [
    {
     "data": {
      "text/plain": [
       "array([22.82595766, 19.82012553, 16.30370578, 13.57598545, 11.55017056,\n",
       "       10.02064145,  8.83578785,  7.89508146,  7.1319549 ,  6.5013636 ,\n",
       "        5.97201592,  5.52160924,  5.13386895,  4.79666524,  4.5007852 ,\n",
       "        4.23911266,  4.00606769,  3.79721561,  3.60898892,  3.43848608,\n",
       "        3.28332366,  3.14152597,  3.01144175,  2.89168033,  2.78106233,\n",
       "        2.67858107,  2.58337217,  2.49468926,  2.41188459,  2.33439324,\n",
       "        2.26172036,  2.19343061,  2.12913949,  2.06850616,  2.01122739,\n",
       "        1.95703256,  1.90567933,  1.85695013,  1.81064898,  1.76659897,\n",
       "        1.72463993,  1.68462652,  1.64642658,  1.60991963,  1.57499563,\n",
       "        1.54155385,  1.50950196,  1.47875511])"
      ]
     },
     "execution_count": 528,
     "metadata": {},
     "output_type": "execute_result"
    },
    {
     "data": {
      "image/png": "[encoded data removed]",
      "text/plain": [
       "<Figure size 432x288 with 1 Axes>"
      ]
     },
     "metadata": {
      "needs_background": "light"
     },
     "output_type": "display_data"
    }
   ],
   "source": [
    "def Ierr(Ifunc):\n",
    "    err = np.array([])\n",
    "    rng = range(2, 50)\n",
    "    for n in rng:\n",
    "        xerr = np.linspace(start, end, n)\n",
    "        ans, b = Ifunc(func, xerr)\n",
    "        nerr = np.abs(ans - Real_answ)\n",
    "        err = np.append(err, nerr)    \n",
    "        \n",
    "    plt.plot(np.log([i for i in rng]), np.log(err))  \n",
    "    plt.plot(np.log([i for i in rng]), np.log([1/(i**2) for i in rng]))\n",
    "    return err\n",
    "Ierr(Integr_rec)"
   ]
  },
  {
   "cell_type": "markdown",
   "id": "3134a653-9de2-4345-be9f-0f876639428f",
   "metadata": {},
   "source": [
    "# Center rectangles"
   ]
  },
  {
   "cell_type": "code",
   "execution_count": 464,
   "id": "e9b5af3e-456d-4055-a949-f4d9bd1edf92",
   "metadata": {},
   "outputs": [],
   "source": [
    "def Integr_crec(f, x):\n",
    "    n = len(x)\n",
    "    ans = 0\n",
    "    for i in range(1, n):\n",
    "        ans += f((x[i] + x[i - 1])/2)*(x[i] - x[i - 1])\n",
    "    blocks = [ [f((x[i + 1] + x[i])/2), x[i], x[i + 1]] for i in range(n - 1)]\n",
    "    return ans, blocks"
   ]
  },
  {
   "cell_type": "code",
   "execution_count": 465,
   "id": "7ca43ef5-fe98-476c-823f-3f3270907204",
   "metadata": {},
   "outputs": [
    {
     "name": "stdout",
     "output_type": "stream",
     "text": [
      "Integral_my: 22.635002385409102, Integral_real: 23.097478714515496\n",
      "Error: 0.46247632910639425\n"
     ]
    },
    {
     "data": {
      "image/png": "[encoded data removed]",
      "text/plain": [
       "<Figure size 432x288 with 1 Axes>"
      ]
     },
     "metadata": {
      "needs_background": "light"
     },
     "output_type": "display_data"
    }
   ],
   "source": [
    "n  = 10\n",
    "x  = np.linspace(start, end, n)\n",
    "y  = func(x)\n",
    "xx = np.linspace(start, end, 1000)\n",
    "yy = func(xx)\n",
    "\n",
    "integr, blocks = Integr_crec(func, x)\n",
    "\n",
    "print(\"Integral_my: {}, Integral_real: {}\".format(integr, Real_answ))\n",
    "print(\"Error: {}\".format(np.abs(integr - Real_answ)))\n",
    "plt.plot(xx, yy)\n",
    "plt.plot(xx, len(xx)*[0])\n",
    "plt.scatter (x, y, c='r')\n",
    "\n",
    "for i in range(len(blocks)):\n",
    "    plt.fill_between([blocks[i][2], blocks[i][1]], [blocks[i][0], blocks[i][0]], color='g', alpha=0.3)\n"
   ]
  },
  {
   "cell_type": "markdown",
   "id": "0302b2c4-f0fd-4134-b8b4-91ddff82fa5d",
   "metadata": {},
   "source": [
    "## Error"
   ]
  },
  {
   "cell_type": "code",
   "execution_count": 529,
   "id": "03c615ae-bee6-4663-a571-6f7a5c33db17",
   "metadata": {},
   "outputs": [
    {
     "data": {
      "text/plain": [
       "array([1.68142934e+01, 7.33184536e+00, 3.73757712e+00, 2.21417748e+00,\n",
       "       1.45255665e+00, 1.02257703e+00, 7.57542632e-01, 5.83143862e-01,\n",
       "       4.62476329e-01, 3.75608554e-01, 3.11036021e-01, 2.61751412e-01,\n",
       "       2.23293192e-01, 1.92713285e-01, 1.68001283e-01, 1.47748556e-01,\n",
       "       1.30944620e-01, 1.16849496e-01, 1.04911335e-01, 9.47118577e-02,\n",
       "       8.59293901e-02, 7.83132951e-02, 7.16659589e-02, 6.58298871e-02,\n",
       "       6.06783183e-02, 5.61083031e-02, 5.20355336e-02, 4.83904367e-02,\n",
       "       4.51151899e-02, 4.21614185e-02, 3.94884030e-02, 3.70616701e-02,\n",
       "       3.48518780e-02, 3.28339267e-02, 3.09862426e-02, 2.92902009e-02,\n",
       "       2.77296549e-02, 2.62905505e-02, 2.49606091e-02, 2.37290655e-02,\n",
       "       2.25864489e-02, 2.15244012e-02, 2.05355232e-02, 1.96132462e-02,\n",
       "       1.87517218e-02, 1.79457301e-02, 1.71905996e-02, 1.64821399e-02])"
      ]
     },
     "execution_count": 529,
     "metadata": {},
     "output_type": "execute_result"
    },
    {
     "data": {
      "image/png": "[encoded data removed]",
      "text/plain": [
       "<Figure size 432x288 with 1 Axes>"
      ]
     },
     "metadata": {
      "needs_background": "light"
     },
     "output_type": "display_data"
    }
   ],
   "source": [
    "Ierr(Integr_crec)  "
   ]
  },
  {
   "cell_type": "markdown",
   "id": "02f53e5a-8cda-4438-9a86-9025c911ef89",
   "metadata": {},
   "source": [
    "# Trapeze"
   ]
  },
  {
   "cell_type": "code",
   "execution_count": 467,
   "id": "03f04c92-086a-475b-872c-1c572c39c2cb",
   "metadata": {},
   "outputs": [],
   "source": [
    "def Integr_trap(f, x):\n",
    "    n = len(x)\n",
    "    ans = 0\n",
    "    for i in range(1, n):\n",
    "        ans += ((f(x[i]) + f(x[i - 1]))/2)*(x[i] - x[i - 1])\n",
    "    blocks = [ [f(x[i + 1]), f(x[i]), x[i], x[i + 1]] for i in range(n - 1)]\n",
    "    return ans,blocks"
   ]
  },
  {
   "cell_type": "code",
   "execution_count": 468,
   "id": "d34ef21a-d738-402f-9803-db399a5e21da",
   "metadata": {},
   "outputs": [
    {
     "name": "stdout",
     "output_type": "stream",
     "text": [
      "Integral_my: 24.028064865136095, Integral_real: 23.097478714515496\n",
      "Error: 0.9305861506205986\n"
     ]
    },
    {
     "data": {
      "image/png": "[encoded data removed]",
      "text/plain": [
       "<Figure size 432x288 with 1 Axes>"
      ]
     },
     "metadata": {
      "needs_background": "light"
     },
     "output_type": "display_data"
    }
   ],
   "source": [
    "n  = 10\n",
    "x  = np.linspace(start, end, n)\n",
    "y  = func(x)\n",
    "xx = np.linspace(start, end, 1000)\n",
    "yy = func(xx)\n",
    "\n",
    "integr, blocks = Integr_trap(func, x)\n",
    "\n",
    "print(\"Integral_my: {}, Integral_real: {}\".format(integr, Real_answ))\n",
    "print(\"Error: {}\".format(np.abs(integr - Real_answ)))\n",
    "plt.plot(xx, yy)\n",
    "plt.plot(xx, len(xx)*[0])\n",
    "plt.scatter (x, y, c='r')\n",
    "\n",
    "for i in range(len(blocks)):\n",
    "    plt.fill_between([blocks[i][3], blocks[i][2]], [blocks[i][0], blocks[i][1]], color='g', alpha=0.3)\n"
   ]
  },
  {
   "cell_type": "markdown",
   "id": "0f240546-6841-4203-9394-9117f3f1412c",
   "metadata": {},
   "source": [
    "## Error"
   ]
  },
  {
   "cell_type": "code",
   "execution_count": 530,
   "id": "229c3bb5-e1e2-4b45-be7e-7e049b4cd0d2",
   "metadata": {},
   "outputs": [
    {
     "data": {
      "text/plain": [
       "array([4.97369118e+01, 1.64613092e+01, 7.88391737e+00, 4.56473191e+00,\n",
       "       2.96240333e+00, 2.07317012e+00, 1.53033636e+00, 1.17527722e+00,\n",
       "       9.30586151e-01, 7.54923341e-01, 6.24608575e-01, 5.25296547e-01,\n",
       "       4.47890235e-01, 3.86396863e-01, 3.36739425e-01, 2.96066677e-01,\n",
       "       2.62336391e-01, 2.34054911e-01, 2.10109475e-01, 1.89657394e-01,\n",
       "       1.72051080e-01, 1.56786277e-01, 1.43465620e-01, 1.31772567e-01,\n",
       "       1.21452452e-01, 1.12298521e-01, 1.04141513e-01, 9.68417892e-02,\n",
       "       9.02833235e-02, 8.43690711e-02, 7.90173601e-02, 7.41590605e-02,\n",
       "       6.97353416e-02, 6.56958854e-02, 6.19974497e-02, 5.86027072e-02,\n",
       "       5.54793008e-02, 5.25990700e-02, 4.99374147e-02, 4.74727680e-02,\n",
       "       4.51861588e-02, 4.30608451e-02, 4.10820078e-02, 3.92364909e-02,\n",
       "       3.75125829e-02, 3.58998304e-02, 3.43888796e-02, 3.29713401e-02])"
      ]
     },
     "execution_count": 530,
     "metadata": {},
     "output_type": "execute_result"
    },
    {
     "data": {
      "image/png": "[encoded data removed]",
      "text/plain": [
       "<Figure size 432x288 with 1 Axes>"
      ]
     },
     "metadata": {
      "needs_background": "light"
     },
     "output_type": "display_data"
    }
   ],
   "source": [
    "Ierr(Integr_trap)  "
   ]
  },
  {
   "cell_type": "markdown",
   "id": "79366591-462d-4fba-b38f-b92b278dba7d",
   "metadata": {},
   "source": [
    "# Simpson's rule"
   ]
  },
  {
   "cell_type": "code",
   "execution_count": 470,
   "id": "13c3afc6-f913-436c-8840-0dec8d5a5420",
   "metadata": {},
   "outputs": [],
   "source": [
    "from scipy.interpolate import BarycentricInterpolator\n",
    "def Integr_sim(f, x):\n",
    "    n = len(x)\n",
    "    ans = 0\n",
    "    for i in range(0, n - 1):\n",
    "        ans += (f(x[i]) + 4 * f((x[i] + x[i + 1])/2) + f(x[i + 1])) * (x[i + 1] - x[i])\n",
    "    ans /= 6    \n",
    "    \n",
    "    blocks = [ [f(x[i]), f((x[i] + x[i + 1])/2), f(x[i + 1]), x[i], x[i + 1]] for i in range(n - 1)]\n",
    "    return ans,blocks"
   ]
  },
  {
   "cell_type": "code",
   "execution_count": 471,
   "id": "a970496b-5f78-4b66-9c3c-0b02de2f83ef",
   "metadata": {},
   "outputs": [
    {
     "name": "stdout",
     "output_type": "stream",
     "text": [
      "Integral_my: 23.099356545318102, Integral_real: 23.097478714515496\n",
      "Error: 0.0018778308026057289\n"
     ]
    },
    {
     "data": {
      "image/png": "[encoded data removed]",
      "text/plain": [
       "<Figure size 432x288 with 1 Axes>"
      ]
     },
     "metadata": {
      "needs_background": "light"
     },
     "output_type": "display_data"
    }
   ],
   "source": [
    "n  = 10\n",
    "x  = np.linspace(start, end, n)\n",
    "y  = func(x)\n",
    "xx = np.linspace(start, end, 1000)\n",
    "yy = func(xx)\n",
    "\n",
    "integr, blocks = Integr_sim(func, x)\n",
    "\n",
    "print(\"Integral_my: {}, Integral_real: {}\".format(integr, Real_answ))\n",
    "print(\"Error: {}\".format(np.abs(integr - Real_answ)))\n",
    "plt.plot(xx, yy)\n",
    "plt.plot(xx, len(xx)*[0])\n",
    "plt.scatter (x, y, c='r')\n",
    "\n",
    "for i in range(0, n -1):\n",
    "    xxx = np.linspace(x[i], x[i + 1], 50)\n",
    "    inter_X = [x[i], (x[i] + x[i + 1])/2, x[i + 1]]\n",
    "    inter_Y = [func(x[i]), func((x[i] + x[i + 1])/2), func(x[i + 1])]\n",
    "    interpol_func = BarycentricInterpolator(inter_X, inter_Y)\n",
    "    yyy = interpol_func(xxx)\n",
    "    plt.fill_between(xxx, yyy, color='g', alpha=0.3)\n"
   ]
  },
  {
   "cell_type": "markdown",
   "id": "83973137-a42d-4ae5-9434-65e80fb97469",
   "metadata": {},
   "source": [
    "## Error"
   ]
  },
  {
   "cell_type": "code",
   "execution_count": 540,
   "id": "06ed747a-c79b-4cf7-9aec-21ae08828b8b",
   "metadata": {},
   "outputs": [
    {
     "data": {
      "text/plain": [
       "[<matplotlib.lines.Line2D at 0x7fe7d88a5820>]"
      ]
     },
     "execution_count": 540,
     "metadata": {},
     "output_type": "execute_result"
    },
    {
     "data": {
      "image/png": "[encoded data removed]",
      "text/plain": [
       "<Figure size 432x288 with 1 Axes>"
      ]
     },
     "metadata": {
      "needs_background": "light"
     },
     "output_type": "display_data"
    }
   ],
   "source": [
    "Ierr(Integr_sim)\n",
    "plt.plot(np.log([i for i in range(1, 50)]), np.log([1/i**4 for i in range(1, 50)]))"
   ]
  },
  {
   "cell_type": "code",
   "execution_count": null,
   "id": "ec99650d-3089-45b9-ac94-6784296b908f",
   "metadata": {},
   "outputs": [],
   "source": []
  },
  {
   "cell_type": "markdown",
   "id": "ee4cf9f6-e60c-4abb-8f9b-6256d04e77e3",
   "metadata": {},
   "source": [
    "# Runge"
   ]
  },
  {
   "cell_type": "markdown",
   "id": "afa85cbc-c774-4ca1-b015-ac57b23d92d4",
   "metadata": {},
   "source": [
    "## Rectangles"
   ]
  },
  {
   "cell_type": "code",
   "execution_count": 490,
   "id": "2d3c47dd-114f-49ec-bac4-fe054cab90c3",
   "metadata": {},
   "outputs": [],
   "source": [
    "def runge(Ifunc, n0, eps=1e-2):\n",
    "    \n",
    "    \n",
    "    \n",
    "    x0  = np.linspace(start, end, n0)\n",
    "    y0  = func(x)\n",
    "\n",
    "    I0, blocks0 = Ifunc(func, x0)\n",
    "\n",
    "    print(\"Start_intergal: {}, Integral_real: {}\".format(I0, Real_answ))\n",
    "    print(\"Start_Error: {}\".format(np.abs(I0 - Real_answ)))\n",
    "    print(\"n start: {}\\n\\n\".format(n0))\n",
    "    \n",
    "    n2 = n0*2\n",
    "    x2 = np.linspace(start, end, n2)\n",
    "    I2, blocks2 = Ifunc(func, x2)\n",
    "\n",
    "    delta = (np.abs(I2 - I0))/3\n",
    "\n",
    "    while delta  > eps:\n",
    "\n",
    "        I0 = I2\n",
    "        n2 = n2*2\n",
    "        x2 = np.linspace(start, end, n2)\n",
    "        I2, blocks = Ifunc(func, x2)\n",
    "\n",
    "        delta = (np.abs(I2 - I0))/3\n",
    "\n",
    "    print(\"Integral_my: {}, Integral_real: {}\".format(I2, Real_answ))\n",
    "    print(\"Error: {}, RungeError: {}\".format(np.abs(I2 - Real_answ), delta))\n",
    "    print(\"n start: {}, n_end: {}\".format(n0, n2))\n",
    "\n",
    "    return n2"
   ]
  },
  {
   "cell_type": "code",
   "execution_count": 499,
   "id": "3737dbfa-b709-44e3-abbe-949d2d6c3228",
   "metadata": {},
   "outputs": [
    {
     "name": "stdout",
     "output_type": "stream",
     "text": [
      "Start_intergal: 3.1542736548747463, Integral_real: -0.6028880580466454\n",
      "Start_Error: 3.7571617129213917\n",
      "n start: 3\n",
      "\n",
      "\n",
      "Integral_my: 0.6028861852687305, Integral_real: -0.6028880580466454\n",
      "Error: 1.2057742433153757, RungeError: 3.656442433593495e-05\n",
      "n start: 3, n_end: 96\n"
     ]
    },
    {
     "data": {
      "text/plain": [
       "96"
      ]
     },
     "execution_count": 499,
     "metadata": {},
     "output_type": "execute_result"
    }
   ],
   "source": [
    "n0=3\n",
    "eps = 1e-3\n",
    "runge(Integr_rec, n0, eps)"
   ]
  },
  {
   "cell_type": "markdown",
   "id": "48d2a43f-458d-4fc8-8d83-50d70f9376ab",
   "metadata": {},
   "source": [
    "# Center rectels"
   ]
  },
  {
   "cell_type": "code",
   "execution_count": 500,
   "id": "f065fee0-0127-479e-90e3-24e2c0622dd3",
   "metadata": {},
   "outputs": [
    {
     "name": "stdout",
     "output_type": "stream",
     "text": [
      "Start_intergal: 0.10023422748753111, Integral_real: -0.6028880580466454\n",
      "Start_Error: 0.7031222855341764\n",
      "n start: 3\n",
      "\n",
      "\n",
      "Integral_my: 0.6028889978946923, Integral_real: -0.6028880580466454\n",
      "Error: 1.2057770559413377, RungeError: 3.561070639442517e-05\n",
      "n start: 3, n_end: 96\n"
     ]
    },
    {
     "data": {
      "text/plain": [
       "96"
      ]
     },
     "execution_count": 500,
     "metadata": {},
     "output_type": "execute_result"
    }
   ],
   "source": [
    "n0=3\n",
    "eps = 1e-3\n",
    "runge(Integr_crec, n0, eps)"
   ]
  },
  {
   "cell_type": "markdown",
   "id": "9dbdef11-56db-4ef0-9bf3-646fb17ef55a",
   "metadata": {},
   "source": [
    "# Trapeze"
   ]
  },
  {
   "cell_type": "code",
   "execution_count": 501,
   "id": "5fb4c0b8-0d4f-4816-bd63-16a926c673e7",
   "metadata": {},
   "outputs": [
    {
     "name": "stdout",
     "output_type": "stream",
     "text": [
      "Start_intergal: 3.1542736548747463, Integral_real: -0.6028880580466454\n",
      "Start_Error: 3.7571617129213917\n",
      "n start: 3\n",
      "\n",
      "\n",
      "Integral_my: 0.6028861852687307, Integral_real: -0.6028880580466454\n",
      "Error: 1.2057742433153762, RungeError: 3.6564424336119984e-05\n",
      "n start: 3, n_end: 96\n"
     ]
    },
    {
     "data": {
      "text/plain": [
       "96"
      ]
     },
     "execution_count": 501,
     "metadata": {},
     "output_type": "execute_result"
    }
   ],
   "source": [
    "n0=3\n",
    "eps = 1e-3\n",
    "runge(Integr_trap, n0, eps)"
   ]
  },
  {
   "cell_type": "markdown",
   "id": "3d0f0300-d5bc-4c76-9727-608385c13db9",
   "metadata": {},
   "source": [
    "# Simon's method"
   ]
  },
  {
   "cell_type": "code",
   "execution_count": 502,
   "id": "db90deb4-5440-4b0c-9bf5-0fa9cae0d9d3",
   "metadata": {},
   "outputs": [
    {
     "name": "stdout",
     "output_type": "stream",
     "text": [
      "Start_intergal: 1.1182473699499362, Integral_real: -0.6028880580466454\n",
      "Start_Error: 1.7211354279965816\n",
      "n start: 3\n",
      "\n",
      "\n",
      "Integral_my: 0.602888060352705, Integral_real: -0.6028880580466454\n",
      "Error: 1.2057761183993505, RungeError: 1.1552329484206444e-05\n",
      "n start: 3, n_end: 96\n"
     ]
    },
    {
     "data": {
      "text/plain": [
       "96"
      ]
     },
     "execution_count": 502,
     "metadata": {},
     "output_type": "execute_result"
    }
   ],
   "source": [
    "n0=3\n",
    "eps = 1e-3\n",
    "runge(Integr_sim, n0, eps)"
   ]
  },
  {
   "cell_type": "markdown",
   "id": "116660c7-c63b-4236-8266-2de64d1550a8",
   "metadata": {},
   "source": [
    "# Improper integrals"
   ]
  },
  {
   "cell_type": "code",
   "execution_count": 541,
   "id": "0266a0e7-ee09-46b6-94ed-ab253da4170a",
   "metadata": {},
   "outputs": [],
   "source": [
    "imfunc = lambda x: np.cos(x)/np.sqrt(x)\n"
   ]
  },
  {
   "cell_type": "code",
   "execution_count": 543,
   "id": "6008c262-e4d7-4b2d-b233-edb455569bc9",
   "metadata": {},
   "outputs": [
    {
     "name": "stderr",
     "output_type": "stream",
     "text": [
      "/tmp/ipykernel_6031/4020757163.py:1: RuntimeWarning: divide by zero encountered in true_divide\n",
      "  imfunc = lambda x: np.cos(x)/np.sqrt(x)\n"
     ]
    },
    {
     "data": {
      "text/plain": [
       "[<matplotlib.lines.Line2D at 0x7fe81bbace20>]"
      ]
     },
     "execution_count": 543,
     "metadata": {},
     "output_type": "execute_result"
    },
    {
     "data": {
      "image/png": "[encoded data removed]",
      "text/plain": [
       "<Figure size 432x288 with 1 Axes>"
      ]
     },
     "metadata": {
      "needs_background": "light"
     },
     "output_type": "display_data"
    }
   ],
   "source": [
    "xx = np.linspace(0, 1, 1000)\n",
    "plt.plot(xx, imfunc(xx))"
   ]
  },
  {
   "cell_type": "code",
   "execution_count": null,
   "id": "e6baf272-93d3-4abc-91b4-382dc95ef3d8",
   "metadata": {},
   "outputs": [],
   "source": []
  }
 ],
 "metadata": {
  "kernelspec": {
   "display_name": "Python 3 (ipykernel)",
   "language": "python",
   "name": "python3"
  },
  "language_info": {
   "codemirror_mode": {
    "name": "ipython",
    "version": 3
   },
   "file_extension": ".py",
   "mimetype": "text/x-python",
   "name": "python",
   "nbconvert_exporter": "python",
   "pygments_lexer": "ipython3",
   "version": "3.8.10"
  }
 },
 "nbformat": 4,
 "nbformat_minor": 5
}
